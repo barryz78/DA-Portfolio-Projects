{
 "cells": [
  {
   "cell_type": "markdown",
   "id": "3b890ec9",
   "metadata": {},
   "source": [
    "# Are professional forecastors rational?"
   ]
  },
  {
   "cell_type": "markdown",
   "id": "1f9615f3",
   "metadata": {},
   "source": [
    "## Introduction"
   ]
  },
  {
   "cell_type": "markdown",
   "id": "9d21318d",
   "metadata": {},
   "source": [
    "###### Forecasting is simply a prediction of an economic metric, based on all available information. This is an integral part of decision-making for all economic agents, from firms, to government entities, to individuals. A simple example to illustrate the impact a forecast would have is the price of a specific stock, if there is a forecast that indicates a decrease in price, selling or shorting the stock would be the optimal move. Another example would be an interest rate forecast, if there appears to be a significant increase, firms would be hesitant to borrow large sums of money for new projects. Economists and other professionals are constantly improving methods of forecasting every year, in an attempt to perfectly predict the future state of the world. But people have been forecasting large economic metrics, such as GDP and inflation, for a long period of time. By gathering old forecasts of these metrics, and using hindsight to directly observe the actual values, it should be interesting to see how accurate these predictions were. More importantly, it would be interesting to see if these forecasts were rational. This analysis will not be looking for identical statistics. Rather, it will observe if these forecasts adhere to the true probability distributions of the economy, and how these individual forecasters react to new information."
   ]
  },
  {
   "cell_type": "markdown",
   "id": "597559ac",
   "metadata": {},
   "source": [
    "## Analysis"
   ]
  },
  {
   "cell_type": "code",
   "execution_count": 1,
   "id": "1f5abac0",
   "metadata": {},
   "outputs": [],
   "source": [
    "import pandas as pd\n",
    "import numpy as np\n",
    "import statsmodels.api as sm"
   ]
  },
  {
   "cell_type": "code",
   "execution_count": 2,
   "id": "da8fda34",
   "metadata": {},
   "outputs": [
    {
     "name": "stderr",
     "output_type": "stream",
     "text": [
      "C:\\Users\\barry\\anaconda3\\Lib\\site-packages\\openpyxl\\worksheet\\header_footer.py:48: UserWarning: Cannot parse header or footer so it will be ignored\n",
      "  warn(\"\"\"Cannot parse header or footer so it will be ignored\"\"\")\n",
      "C:\\Users\\barry\\anaconda3\\Lib\\site-packages\\openpyxl\\worksheet\\header_footer.py:48: UserWarning: Cannot parse header or footer so it will be ignored\n",
      "  warn(\"\"\"Cannot parse header or footer so it will be ignored\"\"\")\n"
     ]
    }
   ],
   "source": [
    "ngdp=pd.read_excel(r'\\Users\\barry\\Desktop\\NGDP.xlsx')\n",
    "pgdp=pd.read_excel(r'\\Users\\barry\\Desktop\\PGDP.xlsx')\n",
    "# windows"
   ]
  },
  {
   "cell_type": "code",
   "execution_count": 3,
   "id": "57fd7ce7",
   "metadata": {
    "scrolled": true
   },
   "outputs": [],
   "source": [
    "# ngdp=pd.read_excel('/Users/barryzou/Desktop/NGDP.xlsx')\n",
    "# pgdp=pd.read_excel('/Users/barryzou/Desktop/PGDP.xlsx')\n",
    "# mac"
   ]
  },
  {
   "cell_type": "markdown",
   "id": "4fa759af",
   "metadata": {},
   "source": [
    "### Nominal GDP Growth Rate"
   ]
  },
  {
   "cell_type": "code",
   "execution_count": 4,
   "id": "42f138d8",
   "metadata": {
    "scrolled": true
   },
   "outputs": [],
   "source": [
    "a=ngdp.groupby(['YEAR', 'QUARTER'])['NGDP1'].apply(lambda x: x.mode().iloc[0]).reset_index() \n",
    "#create dataframe with historical values of NGDP\n",
    "#use mode since there were the occassional value that was different than the others, assume typo"
   ]
  },
  {
   "cell_type": "code",
   "execution_count": 5,
   "id": "15ba6f35",
   "metadata": {
    "scrolled": true
   },
   "outputs": [],
   "source": [
    "f_row = {'YEAR': 1968, 'QUARTER': 3, 'NGDP1': None}\n",
    "a2 = pd.concat([pd.DataFrame([f_row]), a], ignore_index=True)\n",
    "a2['NGDP1'] = a2['NGDP1'].shift(-1)\n",
    "a2 = a2[:-1]\n",
    "#shift all historical NGDP values up to match time period, add empty row to top, remove bottom row"
   ]
  },
  {
   "cell_type": "code",
   "execution_count": 6,
   "id": "98ce50ce",
   "metadata": {},
   "outputs": [],
   "source": [
    "a2['Date'] = pd.PeriodIndex(year=a2['YEAR'], quarter=a2['QUARTER']).to_timestamp()\n",
    "a2.drop(columns=['YEAR','QUARTER'],inplace=True)\n",
    "a2.set_index(['Date'],inplace=True)\n",
    "a2.rename(columns={'NGDP1': 'Nominal GDP'}, inplace=True)\n",
    "#replace year and quarter column with timestamp index, rename 'NGDP1' column"
   ]
  },
  {
   "cell_type": "code",
   "execution_count": 7,
   "id": "04afb517",
   "metadata": {},
   "outputs": [],
   "source": [
    "a2['GDP Growth'] = a2['Nominal GDP'].pct_change() * 100\n",
    "#adding column that calculates percent change"
   ]
  },
  {
   "cell_type": "code",
   "execution_count": 8,
   "id": "764a436b",
   "metadata": {},
   "outputs": [],
   "source": [
    "a2.drop('Nominal GDP', axis=1, inplace=True)\n",
    "#remove the nominal GDP column now, it's no longer needed, guess there was no point renaming it"
   ]
  },
  {
   "cell_type": "code",
   "execution_count": 9,
   "id": "b6087bcc",
   "metadata": {},
   "outputs": [],
   "source": [
    "ngdp['Date'] = pd.PeriodIndex(year=ngdp['YEAR'], quarter=ngdp['QUARTER']).to_timestamp()\n",
    "ngdp.drop(columns=['YEAR','QUARTER'],inplace=True)\n",
    "ngdp.set_index(['Date'],inplace=True)\n",
    "#set the entire dataframe index to timestamp"
   ]
  },
  {
   "cell_type": "code",
   "execution_count": 10,
   "id": "64c586d1",
   "metadata": {},
   "outputs": [],
   "source": [
    "fcid_ngdp={}\n",
    "for i in range(1, 605):\n",
    "    fcid_ngdp[f'fc{i}']=ngdp[ngdp['ID'] == i]\n",
    "    fcid_ngdp[f'fc{i}']=fcid_ngdp[f'fc{i}'].drop(['INDUSTRY', 'NGDPA', 'NGDPB'], axis=1)\n",
    "    fcid_ngdp[f'fc{i}'].rename(columns={'NGDP1': 'Previous Q NGDP', 'NGDP2': 'Forecast 0', 'NGDP3': 'Forecast 1', 'NGDP4': 'Forecast 2', 'NGDP5': 'Forecast 3', 'NGDP6': 'Forecast 4'}, inplace=True)\n",
    "#build a dictionary that can access dataframes of specific forecastors by ID, drop irrelevant columns, rename kept columns"
   ]
  },
  {
   "cell_type": "code",
   "execution_count": 11,
   "id": "f542ff4e",
   "metadata": {},
   "outputs": [],
   "source": [
    "for i in range(1, 605):\n",
    "    fcid_ngdp[f'fc{i}']['Growth Forecast'] = ((fcid_ngdp[f'fc{i}']['Forecast 0'] - fcid_ngdp[f'fc{i}']['Previous Q NGDP']) / fcid_ngdp[f'fc{i}']['Previous Q NGDP']) * 100\n",
    "    fcid_ngdp[f'fc{i}']['GF +1'] = ((fcid_ngdp[f'fc{i}']['Forecast 1'] - fcid_ngdp[f'fc{i}']['Forecast 0']) / fcid_ngdp[f'fc{i}']['Forecast 0']) * 100\n",
    "    fcid_ngdp[f'fc{i}']['GF +2'] = ((fcid_ngdp[f'fc{i}']['Forecast 2'] - fcid_ngdp[f'fc{i}']['Forecast 1']) / fcid_ngdp[f'fc{i}']['Forecast 1']) * 100\n",
    "    fcid_ngdp[f'fc{i}']['GF +3'] = ((fcid_ngdp[f'fc{i}']['Forecast 3'] - fcid_ngdp[f'fc{i}']['Forecast 2']) / fcid_ngdp[f'fc{i}']['Forecast 2']) * 100\n",
    "    fcid_ngdp[f'fc{i}']['GF +4'] = ((fcid_ngdp[f'fc{i}']['Forecast 4'] - fcid_ngdp[f'fc{i}']['Forecast 3']) / fcid_ngdp[f'fc{i}']['Forecast 3']) * 100\n",
    "    fcid_ngdp[f'fc{i}']=fcid_ngdp[f'fc{i}'].drop(['Previous Q NGDP', 'Forecast 0', 'Forecast 1', 'Forecast 2', 'Forecast 3', 'Forecast 4'], axis=1)\n",
    "#create new columns, \"Growth Forecast\", \"GF +1\",...,\"GF +4\", which are forecasts of economic growth\n",
    "#drop all columns with just GDP forecasts, not needed"
   ]
  },
  {
   "cell_type": "code",
   "execution_count": 12,
   "id": "778f659b",
   "metadata": {},
   "outputs": [],
   "source": [
    "f_col=['Growth Forecast', 'GF +1', 'GF +2', 'GF +3', 'GF +4']\n",
    "fe_col=['FE1', 'FE2', 'FE3', 'FE4', 'FE5']\n",
    "#columns we will be working with, then dropping"
   ]
  },
  {
   "cell_type": "code",
   "execution_count": 13,
   "id": "a4b8578e",
   "metadata": {},
   "outputs": [],
   "source": [
    "def shift_forecasts(id):\n",
    "    fcid_ngdp2[f'fc{id}']['GF +1']=fcid_ngdp2[f'fc{id}']['GF +1'].shift(1)\n",
    "    fcid_ngdp2[f'fc{id}']['GF +2']=fcid_ngdp2[f'fc{id}']['GF +2'].shift(2)\n",
    "    fcid_ngdp2[f'fc{id}']['GF +3']=fcid_ngdp2[f'fc{id}']['GF +3'].shift(3)\n",
    "    fcid_ngdp2[f'fc{id}']['GF +4']=fcid_ngdp2[f'fc{id}']['GF +4'].shift(4)\n",
    "#a function that will shift growth rate forecasts to the time period it is forecasting"
   ]
  },
  {
   "cell_type": "code",
   "execution_count": 14,
   "id": "40181173",
   "metadata": {},
   "outputs": [],
   "source": [
    "def calc_FE(id):\n",
    "    for i in range(1,6):\n",
    "        fcid_ngdp2[f'fc{id}'][f'FE{i}']=fcid_ngdp2[f'fc{id}']['GDP Growth']-fcid_ngdp2[f'fc{id}']['Growth Forecast']\n",
    "        fcid_ngdp2[f'fc{id}'][f'FE{i}']=fcid_ngdp2[f'fc{id}']['GDP Growth']-fcid_ngdp2[f'fc{id}']['GF +1']\n",
    "        fcid_ngdp2[f'fc{id}'][f'FE{i}']=fcid_ngdp2[f'fc{id}']['GDP Growth']-fcid_ngdp2[f'fc{id}']['GF +2']\n",
    "        fcid_ngdp2[f'fc{id}'][f'FE{i}']=fcid_ngdp2[f'fc{id}']['GDP Growth']-fcid_ngdp2[f'fc{id}']['GF +3']\n",
    "        fcid_ngdp2[f'fc{id}'][f'FE{i}']=fcid_ngdp2[f'fc{id}']['GDP Growth']-fcid_ngdp2[f'fc{id}']['GF +4']\n",
    "#this function will create columns that have forecast errors, most will be four forecast errors per period"
   ]
  },
  {
   "cell_type": "code",
   "execution_count": 15,
   "id": "be0c1b9e",
   "metadata": {},
   "outputs": [],
   "source": [
    "fcid_ngdp2={}\n",
    "for i in range(1, 605):\n",
    "    fcid_ngdp2[f'fc{i}']=pd.merge(a2, fcid_ngdp[f'fc{i}'], on='Date', how='left')\n",
    "    shift_forecasts(i)\n",
    "    fcid_ngdp2[f'fc{i}']['News'] = fcid_ngdp2[f'fc{i}'][f_col].apply(lambda row: row.max() - row.min(), axis=1)\n",
    "    calc_FE(i)\n",
    "    fcid_ngdp2[f'fc{i}']['Avg_FE']=fcid_ngdp2[f'fc{i}'][fe_col].mean(axis=1, skipna=True)\n",
    "    fcid_ngdp2[f'fc{i}'].drop(columns=f_col, inplace=True)\n",
    "    fcid_ngdp2[f'fc{i}'].drop(columns=fe_col, inplace=True)\n",
    "#here is a second dictionary for each forecaster, with actual GDP growth, a news column, and a column for average forecast error\n",
    "#columns were added and removed after use"
   ]
  },
  {
   "cell_type": "code",
   "execution_count": 16,
   "id": "3ebb66ab",
   "metadata": {
    "scrolled": true
   },
   "outputs": [],
   "source": [
    "m_col=['News', 'Avg_FE']\n",
    "n_reg={\n",
    "    'ID':[],\n",
    "    'beta1':[],\n",
    "    'SE':[],\n",
    "    'P-Value':[]\n",
    "}\n",
    "p_reg={\n",
    "    'ID':[],\n",
    "    'beta1':[],\n",
    "    'SE':[],\n",
    "    'P-Value':[]\n",
    "}\n",
    "#columns to clean, a dictionary to record regression information"
   ]
  },
  {
   "cell_type": "code",
   "execution_count": 17,
   "id": "02185373",
   "metadata": {
    "scrolled": true
   },
   "outputs": [
    {
     "name": "stderr",
     "output_type": "stream",
     "text": [
      "C:\\Users\\barry\\anaconda3\\Lib\\site-packages\\statsmodels\\regression\\linear_model.py:1716: RuntimeWarning: divide by zero encountered in scalar divide\n",
      "  return np.dot(wresid, wresid) / self.df_resid\n",
      "C:\\Users\\barry\\anaconda3\\Lib\\site-packages\\statsmodels\\regression\\linear_model.py:1716: RuntimeWarning: divide by zero encountered in scalar divide\n",
      "  return np.dot(wresid, wresid) / self.df_resid\n",
      "C:\\Users\\barry\\anaconda3\\Lib\\site-packages\\statsmodels\\regression\\linear_model.py:1716: RuntimeWarning: divide by zero encountered in scalar divide\n",
      "  return np.dot(wresid, wresid) / self.df_resid\n",
      "C:\\Users\\barry\\anaconda3\\Lib\\site-packages\\statsmodels\\regression\\linear_model.py:1716: RuntimeWarning: divide by zero encountered in scalar divide\n",
      "  return np.dot(wresid, wresid) / self.df_resid\n",
      "C:\\Users\\barry\\anaconda3\\Lib\\site-packages\\statsmodels\\regression\\linear_model.py:1716: RuntimeWarning: divide by zero encountered in scalar divide\n",
      "  return np.dot(wresid, wresid) / self.df_resid\n",
      "C:\\Users\\barry\\anaconda3\\Lib\\site-packages\\statsmodels\\regression\\linear_model.py:1716: RuntimeWarning: divide by zero encountered in scalar divide\n",
      "  return np.dot(wresid, wresid) / self.df_resid\n",
      "C:\\Users\\barry\\anaconda3\\Lib\\site-packages\\statsmodels\\regression\\linear_model.py:1716: RuntimeWarning: divide by zero encountered in scalar divide\n",
      "  return np.dot(wresid, wresid) / self.df_resid\n",
      "C:\\Users\\barry\\anaconda3\\Lib\\site-packages\\statsmodels\\regression\\linear_model.py:1716: RuntimeWarning: divide by zero encountered in scalar divide\n",
      "  return np.dot(wresid, wresid) / self.df_resid\n",
      "C:\\Users\\barry\\anaconda3\\Lib\\site-packages\\statsmodels\\regression\\linear_model.py:1716: RuntimeWarning: divide by zero encountered in scalar divide\n",
      "  return np.dot(wresid, wresid) / self.df_resid\n",
      "C:\\Users\\barry\\anaconda3\\Lib\\site-packages\\statsmodels\\regression\\linear_model.py:1716: RuntimeWarning: divide by zero encountered in scalar divide\n",
      "  return np.dot(wresid, wresid) / self.df_resid\n",
      "C:\\Users\\barry\\anaconda3\\Lib\\site-packages\\statsmodels\\regression\\linear_model.py:1716: RuntimeWarning: divide by zero encountered in scalar divide\n",
      "  return np.dot(wresid, wresid) / self.df_resid\n",
      "C:\\Users\\barry\\anaconda3\\Lib\\site-packages\\statsmodels\\regression\\linear_model.py:1716: RuntimeWarning: divide by zero encountered in scalar divide\n",
      "  return np.dot(wresid, wresid) / self.df_resid\n",
      "C:\\Users\\barry\\anaconda3\\Lib\\site-packages\\statsmodels\\regression\\linear_model.py:1716: RuntimeWarning: divide by zero encountered in scalar divide\n",
      "  return np.dot(wresid, wresid) / self.df_resid\n",
      "C:\\Users\\barry\\anaconda3\\Lib\\site-packages\\statsmodels\\regression\\linear_model.py:1716: RuntimeWarning: divide by zero encountered in scalar divide\n",
      "  return np.dot(wresid, wresid) / self.df_resid\n",
      "C:\\Users\\barry\\anaconda3\\Lib\\site-packages\\statsmodels\\regression\\linear_model.py:1716: RuntimeWarning: divide by zero encountered in scalar divide\n",
      "  return np.dot(wresid, wresid) / self.df_resid\n",
      "C:\\Users\\barry\\anaconda3\\Lib\\site-packages\\statsmodels\\regression\\linear_model.py:1716: RuntimeWarning: divide by zero encountered in scalar divide\n",
      "  return np.dot(wresid, wresid) / self.df_resid\n",
      "C:\\Users\\barry\\anaconda3\\Lib\\site-packages\\statsmodels\\regression\\linear_model.py:1716: RuntimeWarning: divide by zero encountered in scalar divide\n",
      "  return np.dot(wresid, wresid) / self.df_resid\n",
      "C:\\Users\\barry\\anaconda3\\Lib\\site-packages\\statsmodels\\regression\\linear_model.py:1716: RuntimeWarning: divide by zero encountered in scalar divide\n",
      "  return np.dot(wresid, wresid) / self.df_resid\n"
     ]
    }
   ],
   "source": [
    "fcid_ngdp3={}\n",
    "for i in range(1, 605):\n",
    "    fcid_ngdp3[f'fc{i}']=fcid_ngdp2[f'fc{i}'].dropna(subset=m_col)\n",
    "    if len(fcid_ngdp3[f'fc{i}'])<2:\n",
    "        continue\n",
    "    X = sm.add_constant(fcid_ngdp3[f'fc{i}']['News'])\n",
    "    model = sm.OLS(fcid_ngdp3[f'fc{i}']['Avg_FE'], X).fit()\n",
    "    beta1 = model.params\n",
    "    se = model.bse\n",
    "    p_val = model.pvalues\n",
    "    n_reg['ID'].append(i)\n",
    "    n_reg['beta1'].append(beta1[1])\n",
    "    n_reg['SE'].append(se[1])\n",
    "    n_reg['P-Value'].append(p_val[1])"
   ]
  },
  {
   "cell_type": "code",
   "execution_count": 18,
   "id": "e49be7e3",
   "metadata": {
    "scrolled": true
   },
   "outputs": [],
   "source": [
    "n_beta=pd.DataFrame(n_reg)"
   ]
  },
  {
   "cell_type": "code",
   "execution_count": 19,
   "id": "f6f71010",
   "metadata": {},
   "outputs": [
    {
     "name": "stdout",
     "output_type": "stream",
     "text": [
      "89 out of 300 forecasters forecasting nominal GDP growth are rational.\n"
     ]
    }
   ],
   "source": [
    "rat_ngdp = (n_beta['P-Value']>0.5).sum()\n",
    "print(f'{rat_ngdp} out of 300 forecasters forecasting nominal GDP growth are rational.')"
   ]
  },
  {
   "cell_type": "markdown",
   "id": "3d3e03fb",
   "metadata": {},
   "source": [
    "### Inflation"
   ]
  },
  {
   "cell_type": "code",
   "execution_count": 20,
   "id": "379e1252",
   "metadata": {},
   "outputs": [],
   "source": [
    "b=pgdp.groupby(['YEAR', 'QUARTER'])['PGDP1'].apply(lambda x: x.mode().iloc[0]).reset_index() \n",
    "#steps for this variable will be fairly identical to GDP growth"
   ]
  },
  {
   "cell_type": "code",
   "execution_count": 21,
   "id": "051c7211",
   "metadata": {},
   "outputs": [],
   "source": [
    "f2_row = {'YEAR': 1968, 'QUARTER': 3, 'PGDP1': None}\n",
    "b2 = pd.concat([pd.DataFrame([f2_row]), b], ignore_index=True)\n",
    "b2['PGDP1'] = b2['PGDP1'].shift(-1)\n",
    "b2 = b2[:-1]"
   ]
  },
  {
   "cell_type": "code",
   "execution_count": 22,
   "id": "c70a7616",
   "metadata": {},
   "outputs": [],
   "source": [
    "b2['Date'] = pd.PeriodIndex(year=b2['YEAR'], quarter=b2['QUARTER']).to_timestamp()\n",
    "b2.drop(columns=['YEAR','QUARTER'],inplace=True)\n",
    "b2.set_index(['Date'],inplace=True)"
   ]
  },
  {
   "cell_type": "code",
   "execution_count": 23,
   "id": "c8ba74da",
   "metadata": {},
   "outputs": [],
   "source": [
    "b2['Inflation'] = b2['PGDP1'].pct_change() * 100"
   ]
  },
  {
   "cell_type": "code",
   "execution_count": 24,
   "id": "3375a874",
   "metadata": {},
   "outputs": [],
   "source": [
    "b2.drop('PGDP1', axis=1, inplace=True)"
   ]
  },
  {
   "cell_type": "code",
   "execution_count": 25,
   "id": "5f6d9673",
   "metadata": {},
   "outputs": [],
   "source": [
    "pgdp['Date'] = pd.PeriodIndex(year=pgdp['YEAR'], quarter=pgdp['QUARTER']).to_timestamp()\n",
    "pgdp.drop(columns=['YEAR','QUARTER'],inplace=True)\n",
    "pgdp.set_index(['Date'],inplace=True)"
   ]
  },
  {
   "cell_type": "code",
   "execution_count": 26,
   "id": "c944cdd3",
   "metadata": {
    "scrolled": true
   },
   "outputs": [],
   "source": [
    "fcid_pgdp={}\n",
    "for i in range(1, 605):\n",
    "    fcid_pgdp[f'fc{i}']=pgdp[pgdp['ID'] == i]\n",
    "    fcid_pgdp[f'fc{i}']=fcid_pgdp[f'fc{i}'].drop(['INDUSTRY', 'PGDPA', 'PGDPB'], axis=1)\n",
    "    fcid_pgdp[f'fc{i}'].rename(columns={'PGDP1': 'Previous Q PGDP', 'PGDP2': 'Forecast 0', 'PGDP3': 'Forecast 1', 'PGDP4': 'Forecast 2', 'PGDP5': 'Forecast 3', 'PGDP6': 'Forecast 4'}, inplace=True)"
   ]
  },
  {
   "cell_type": "code",
   "execution_count": 27,
   "id": "79989ea6",
   "metadata": {},
   "outputs": [],
   "source": [
    "for i in range(1, 605):\n",
    "    fcid_pgdp[f'fc{i}']['Growth Forecast'] = ((fcid_pgdp[f'fc{i}']['Forecast 0'] - fcid_pgdp[f'fc{i}']['Previous Q PGDP']) / fcid_pgdp[f'fc{i}']['Previous Q PGDP']) * 100\n",
    "    fcid_pgdp[f'fc{i}']['GF +1'] = ((fcid_pgdp[f'fc{i}']['Forecast 1'] - fcid_pgdp[f'fc{i}']['Forecast 0']) / fcid_pgdp[f'fc{i}']['Forecast 0']) * 100\n",
    "    fcid_pgdp[f'fc{i}']['GF +2'] = ((fcid_pgdp[f'fc{i}']['Forecast 2'] - fcid_pgdp[f'fc{i}']['Forecast 1']) / fcid_pgdp[f'fc{i}']['Forecast 1']) * 100\n",
    "    fcid_pgdp[f'fc{i}']['GF +3'] = ((fcid_pgdp[f'fc{i}']['Forecast 3'] - fcid_pgdp[f'fc{i}']['Forecast 2']) / fcid_pgdp[f'fc{i}']['Forecast 2']) * 100\n",
    "    fcid_pgdp[f'fc{i}']['GF +4'] = ((fcid_pgdp[f'fc{i}']['Forecast 4'] - fcid_pgdp[f'fc{i}']['Forecast 3']) / fcid_pgdp[f'fc{i}']['Forecast 3']) * 100\n",
    "    fcid_pgdp[f'fc{i}']=fcid_pgdp[f'fc{i}'].drop(['Previous Q PGDP', 'Forecast 0', 'Forecast 1', 'Forecast 2', 'Forecast 3', 'Forecast 4'], axis=1)"
   ]
  },
  {
   "cell_type": "code",
   "execution_count": 28,
   "id": "e29aa0a2",
   "metadata": {},
   "outputs": [],
   "source": [
    "def shift_forecasts_p(id):\n",
    "    fcid_pgdp2[f'fc{id}']['GF +1']=fcid_pgdp2[f'fc{id}']['GF +1'].shift(1)\n",
    "    fcid_pgdp2[f'fc{id}']['GF +2']=fcid_pgdp2[f'fc{id}']['GF +2'].shift(2)\n",
    "    fcid_pgdp2[f'fc{id}']['GF +3']=fcid_pgdp2[f'fc{id}']['GF +3'].shift(3)\n",
    "    fcid_pgdp2[f'fc{id}']['GF +4']=fcid_pgdp2[f'fc{id}']['GF +4'].shift(4)\n",
    "#probably more effecient to make this function take dataframe as an input, but it was less effort to write a new one for PGDP"
   ]
  },
  {
   "cell_type": "code",
   "execution_count": 29,
   "id": "01e2f93e",
   "metadata": {},
   "outputs": [],
   "source": [
    "def calc_FE_p(id):\n",
    "    for i in range(1,6):\n",
    "        fcid_pgdp2[f'fc{id}'][f'FE{i}']=fcid_pgdp2[f'fc{id}']['Inflation']-fcid_pgdp2[f'fc{id}']['Growth Forecast']\n",
    "        fcid_pgdp2[f'fc{id}'][f'FE{i}']=fcid_pgdp2[f'fc{id}']['Inflation']-fcid_pgdp2[f'fc{id}']['GF +1']\n",
    "        fcid_pgdp2[f'fc{id}'][f'FE{i}']=fcid_pgdp2[f'fc{id}']['Inflation']-fcid_pgdp2[f'fc{id}']['GF +2']\n",
    "        fcid_pgdp2[f'fc{id}'][f'FE{i}']=fcid_pgdp2[f'fc{id}']['Inflation']-fcid_pgdp2[f'fc{id}']['GF +3']\n",
    "        fcid_pgdp2[f'fc{id}'][f'FE{i}']=fcid_pgdp2[f'fc{id}']['Inflation']-fcid_pgdp2[f'fc{id}']['GF +4']\n",
    "#same rationale for this function"
   ]
  },
  {
   "cell_type": "code",
   "execution_count": 31,
   "id": "4e532cee",
   "metadata": {},
   "outputs": [],
   "source": [
    "fcid_pgdp2={}\n",
    "for i in range(1, 605):\n",
    "    fcid_pgdp2[f'fc{i}']=pd.merge(b2, fcid_pgdp[f'fc{i}'], on='Date', how='left')\n",
    "    shift_forecasts_p(i)\n",
    "    fcid_pgdp2[f'fc{i}']['News'] = fcid_pgdp2[f'fc{i}'][f_col].apply(lambda row: row.max() - row.min(), axis=1)\n",
    "    calc_FE_p(i)\n",
    "    fcid_pgdp2[f'fc{i}']['Avg_FE']=fcid_pgdp2[f'fc{i}'][fe_col].mean(axis=1, skipna=True)\n",
    "    fcid_pgdp2[f'fc{i}'].drop(columns=f_col, inplace=True)\n",
    "    fcid_pgdp2[f'fc{i}'].drop(columns=fe_col, inplace=True)"
   ]
  },
  {
   "cell_type": "code",
   "execution_count": 32,
   "id": "742f0379",
   "metadata": {},
   "outputs": [
    {
     "name": "stderr",
     "output_type": "stream",
     "text": [
      "C:\\Users\\barry\\anaconda3\\Lib\\site-packages\\statsmodels\\regression\\linear_model.py:1716: RuntimeWarning: divide by zero encountered in scalar divide\n",
      "  return np.dot(wresid, wresid) / self.df_resid\n",
      "C:\\Users\\barry\\anaconda3\\Lib\\site-packages\\statsmodels\\regression\\linear_model.py:1716: RuntimeWarning: divide by zero encountered in scalar divide\n",
      "  return np.dot(wresid, wresid) / self.df_resid\n",
      "C:\\Users\\barry\\anaconda3\\Lib\\site-packages\\statsmodels\\regression\\linear_model.py:1716: RuntimeWarning: invalid value encountered in scalar divide\n",
      "  return np.dot(wresid, wresid) / self.df_resid\n",
      "C:\\Users\\barry\\anaconda3\\Lib\\site-packages\\statsmodels\\regression\\linear_model.py:1716: RuntimeWarning: divide by zero encountered in scalar divide\n",
      "  return np.dot(wresid, wresid) / self.df_resid\n",
      "C:\\Users\\barry\\anaconda3\\Lib\\site-packages\\statsmodels\\regression\\linear_model.py:1716: RuntimeWarning: divide by zero encountered in scalar divide\n",
      "  return np.dot(wresid, wresid) / self.df_resid\n",
      "C:\\Users\\barry\\anaconda3\\Lib\\site-packages\\statsmodels\\regression\\linear_model.py:1716: RuntimeWarning: divide by zero encountered in scalar divide\n",
      "  return np.dot(wresid, wresid) / self.df_resid\n",
      "C:\\Users\\barry\\anaconda3\\Lib\\site-packages\\statsmodels\\regression\\linear_model.py:1716: RuntimeWarning: divide by zero encountered in scalar divide\n",
      "  return np.dot(wresid, wresid) / self.df_resid\n",
      "C:\\Users\\barry\\anaconda3\\Lib\\site-packages\\statsmodels\\regression\\linear_model.py:1716: RuntimeWarning: divide by zero encountered in scalar divide\n",
      "  return np.dot(wresid, wresid) / self.df_resid\n",
      "C:\\Users\\barry\\anaconda3\\Lib\\site-packages\\statsmodels\\regression\\linear_model.py:1716: RuntimeWarning: divide by zero encountered in scalar divide\n",
      "  return np.dot(wresid, wresid) / self.df_resid\n",
      "C:\\Users\\barry\\anaconda3\\Lib\\site-packages\\statsmodels\\regression\\linear_model.py:1716: RuntimeWarning: divide by zero encountered in scalar divide\n",
      "  return np.dot(wresid, wresid) / self.df_resid\n",
      "C:\\Users\\barry\\anaconda3\\Lib\\site-packages\\statsmodels\\regression\\linear_model.py:1716: RuntimeWarning: divide by zero encountered in scalar divide\n",
      "  return np.dot(wresid, wresid) / self.df_resid\n",
      "C:\\Users\\barry\\anaconda3\\Lib\\site-packages\\statsmodels\\regression\\linear_model.py:1716: RuntimeWarning: divide by zero encountered in scalar divide\n",
      "  return np.dot(wresid, wresid) / self.df_resid\n",
      "C:\\Users\\barry\\anaconda3\\Lib\\site-packages\\statsmodels\\regression\\linear_model.py:1716: RuntimeWarning: divide by zero encountered in scalar divide\n",
      "  return np.dot(wresid, wresid) / self.df_resid\n",
      "C:\\Users\\barry\\anaconda3\\Lib\\site-packages\\statsmodels\\regression\\linear_model.py:1716: RuntimeWarning: divide by zero encountered in scalar divide\n",
      "  return np.dot(wresid, wresid) / self.df_resid\n",
      "C:\\Users\\barry\\anaconda3\\Lib\\site-packages\\statsmodels\\regression\\linear_model.py:1716: RuntimeWarning: divide by zero encountered in scalar divide\n",
      "  return np.dot(wresid, wresid) / self.df_resid\n",
      "C:\\Users\\barry\\anaconda3\\Lib\\site-packages\\statsmodels\\regression\\linear_model.py:1716: RuntimeWarning: divide by zero encountered in scalar divide\n",
      "  return np.dot(wresid, wresid) / self.df_resid\n",
      "C:\\Users\\barry\\anaconda3\\Lib\\site-packages\\statsmodels\\regression\\linear_model.py:1716: RuntimeWarning: divide by zero encountered in scalar divide\n",
      "  return np.dot(wresid, wresid) / self.df_resid\n",
      "C:\\Users\\barry\\anaconda3\\Lib\\site-packages\\statsmodels\\regression\\linear_model.py:1716: RuntimeWarning: divide by zero encountered in scalar divide\n",
      "  return np.dot(wresid, wresid) / self.df_resid\n",
      "C:\\Users\\barry\\anaconda3\\Lib\\site-packages\\statsmodels\\regression\\linear_model.py:1716: RuntimeWarning: divide by zero encountered in scalar divide\n",
      "  return np.dot(wresid, wresid) / self.df_resid\n",
      "C:\\Users\\barry\\anaconda3\\Lib\\site-packages\\statsmodels\\regression\\linear_model.py:1716: RuntimeWarning: divide by zero encountered in scalar divide\n",
      "  return np.dot(wresid, wresid) / self.df_resid\n",
      "C:\\Users\\barry\\anaconda3\\Lib\\site-packages\\statsmodels\\regression\\linear_model.py:1716: RuntimeWarning: divide by zero encountered in scalar divide\n",
      "  return np.dot(wresid, wresid) / self.df_resid\n"
     ]
    }
   ],
   "source": [
    "fcid_pgdp3={}\n",
    "for i in range(1, 605):\n",
    "    fcid_pgdp3[f'fc{i}']=fcid_pgdp2[f'fc{i}'].dropna(subset=m_col)\n",
    "    if len(fcid_pgdp3[f'fc{i}'])<2:\n",
    "        continue\n",
    "    X = sm.add_constant(fcid_pgdp3[f'fc{i}']['News'])\n",
    "    model = sm.OLS(fcid_pgdp3[f'fc{i}']['Avg_FE'], X).fit()\n",
    "    beta1 = model.params\n",
    "    se = model.bse\n",
    "    p_val = model.pvalues\n",
    "    p_reg['ID'].append(i)\n",
    "    p_reg['beta1'].append(beta1[1])\n",
    "    p_reg['SE'].append(se[1])\n",
    "    p_reg['P-Value'].append(p_val[1])"
   ]
  },
  {
   "cell_type": "code",
   "execution_count": 33,
   "id": "4dc2e2d7",
   "metadata": {},
   "outputs": [],
   "source": [
    "p_beta=pd.DataFrame(p_reg)"
   ]
  },
  {
   "cell_type": "code",
   "execution_count": 34,
   "id": "db35947d",
   "metadata": {
    "scrolled": true
   },
   "outputs": [
    {
     "name": "stdout",
     "output_type": "stream",
     "text": [
      "103 out of 300 forecasters forecasting inflation are rational\n"
     ]
    }
   ],
   "source": [
    "rat_pgdp = (p_beta['P-Value']>0.5).sum()\n",
    "print(f'{rat_pgdp} out of 300 forecasters forecasting inflation are rational')"
   ]
  },
  {
   "cell_type": "markdown",
   "id": "8ba61be5",
   "metadata": {},
   "source": [
    "## Discussion"
   ]
  },
  {
   "cell_type": "markdown",
   "id": "c70dd634",
   "metadata": {},
   "source": [
    "###### While attempting to answer this question, there were certainly limitations that range from missing data to python language fluency. The ultimate goal was to compare forecasts of each individual forecaster to the actual value, which was done with nominal GDP growth and inflation. The steps that were taken for both are almost identical, so discussion will only pertain to nominal GDP growth to avoid redundancy. The first limitation was finding data on FRED that matches the methodology of data in the spreadsheet. After some attempts of searching, and even one attempt to calculate it myself, it dawned on me that it might be simpler to just use the historical values given in the first column of every worksheet. The documentation explains that it represents the historical value of the previous quarter, so a new dataframe was created and the first column was shifted up so that the value matched the year. Then using the same dataframe, a new column was added to calculate growth rate.\n"
   ]
  },
  {
   "cell_type": "markdown",
   "id": "15e6616e",
   "metadata": {},
   "source": [
    "###### Now, to evaluate the rationality of each individual forecaster, dataframes were created for each one, ranging from ID 1-604. Dictionaries were especially helpful for this since a loop could handle the creation of all the dataframes. This method would be employed two more times as more changes were made to the forecaster’s individual dataframes. Since forecasters would generally make five forecasts, for the current period up to one year ahead, it seemed like the correct move to calculate the quarterly change of each of them, which essentially would be a forecast of the GDP growth during that interval of time. This means that if a forecaster records their forecast for each quarter, which they didn’t, they would have four forecasts of growth for a single quarter, all made at different points in time. Columns to collect forecast errors were made, a maximum of four, and an average for forecast error was created in a separate column.\n"
   ]
  },
  {
   "cell_type": "markdown",
   "id": "a00867ad",
   "metadata": {},
   "source": [
    "###### News was a difficult variable to calculate. The first idea was to calculate the absolute value of all differences in growth rate forecasts, and use the sum. But several forecasters were very inconsistent with their forecasts, and often did not report their forecasts every single quarter. But did that necessarily make them less reactive to news? The forecasters who were diligent would end up with a greater news value, just by virtue of making more forecasts. In the end, it was settled on range, the difference between the largest forecast and the smallest. This would simply demonstrate the magnitude of change that will occur, which should demonstrate reaction levels since all forecasters are assumed to be privy to the same knowledge.\n"
   ]
  },
  {
   "cell_type": "markdown",
   "id": "777bd13b",
   "metadata": {},
   "source": [
    "###### Missing data was an issue when running the regression, and there were cases when forecasters also only had one row of data. Both of these needed to be accounted for when building a model for average forecast error with one predictor, news. A loop with a dictionary was employed to create an OLS model summary for each forecaster, and important information, such as the coefficient, standard error, and p-value was added to a new dataframe. To test forecaster rationality, the null hypothesis, the coefficient of news is zero, needed to be accepted. Using the dataframe with the regression info, there was a sum of forecasters with a p-value greater than 0.05, as the test will be at a 5% level of significance. The result is printed in the analysis section, and will be elaborated upon in the conclusion. \n"
   ]
  },
  {
   "cell_type": "markdown",
   "id": "0c9a62fd",
   "metadata": {},
   "source": [
    "## Conclusion"
   ]
  },
  {
   "cell_type": "markdown",
   "id": "e52d6618",
   "metadata": {},
   "source": [
    "###### 89 out of 300 forecasters forecasting nominal GDP growth are rational, 103 out of 300 forecasters forecasting inflation are rational, these are the statements printed at the bottom of my analysis section, 29.6% and 34.3% respectively. Without context as to how the broader industry of economic forecaster looks like, this does not seem like a very high percentage. It is clear that the majority of forecasters are overreacting to information from media sources or other individuals. The results did contradict my initial thoughts as to what the data would tell. Historically, inflation has been a metric that evoked more emotional responses than GDP growth, since many aspects of people’s lives are more directly affected by inflation than GDP. Think gas prices, groceries, and other daily improvements. But the percentage difference, by eye test, does not seem too great. Is it significant? That’s a project for another time.\n"
   ]
  },
  {
   "cell_type": "code",
   "execution_count": null,
   "id": "1d276f1f",
   "metadata": {},
   "outputs": [],
   "source": []
  }
 ],
 "metadata": {
  "kernelspec": {
   "display_name": "Python 3 (ipykernel)",
   "language": "python",
   "name": "python3"
  },
  "language_info": {
   "codemirror_mode": {
    "name": "ipython",
    "version": 3
   },
   "file_extension": ".py",
   "mimetype": "text/x-python",
   "name": "python",
   "nbconvert_exporter": "python",
   "pygments_lexer": "ipython3",
   "version": "3.11.5"
  }
 },
 "nbformat": 4,
 "nbformat_minor": 5
}
